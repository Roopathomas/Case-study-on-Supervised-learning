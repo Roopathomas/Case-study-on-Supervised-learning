{
 "cells": [
  {
   "cell_type": "markdown",
   "id": "af40e26c",
   "metadata": {},
   "source": [
    "# Case study on Supervised learning"
   ]
  },
  {
   "cell_type": "code",
   "execution_count": 1,
   "id": "f7061bb5",
   "metadata": {},
   "outputs": [],
   "source": [
    "#importing pandas,numply,matplotlib.pyplot,seaborn libaries\n",
    "import pandas as pd\n",
    "import numpy as np\n",
    "import matplotlib.pyplot as plt\n",
    "import seaborn as sns\n",
    "from sklearn import preprocessing\n",
    "from sklearn.model_selection import train_test_split\n",
    "from sklearn import linear_model\n",
    "from sklearn.linear_model import LogisticRegression\n",
    "from sklearn.metrics import mean_squared_error\n",
    "from sklearn.metrics import r2_score"
   ]
  },
  {
   "cell_type": "markdown",
   "id": "b44b9e2b",
   "metadata": {},
   "source": [
    "# 1. Read the dataset to the python environment."
   ]
  },
  {
   "cell_type": "code",
   "execution_count": 2,
   "id": "f5af05b2",
   "metadata": {},
   "outputs": [
    {
     "data": {
      "text/html": [
       "<div>\n",
       "<style scoped>\n",
       "    .dataframe tbody tr th:only-of-type {\n",
       "        vertical-align: middle;\n",
       "    }\n",
       "\n",
       "    .dataframe tbody tr th {\n",
       "        vertical-align: top;\n",
       "    }\n",
       "\n",
       "    .dataframe thead th {\n",
       "        text-align: right;\n",
       "    }\n",
       "</style>\n",
       "<table border=\"1\" class=\"dataframe\">\n",
       "  <thead>\n",
       "    <tr style=\"text-align: right;\">\n",
       "      <th></th>\n",
       "      <th>SL</th>\n",
       "      <th>SW</th>\n",
       "      <th>PL</th>\n",
       "      <th>PW</th>\n",
       "      <th>Classification</th>\n",
       "    </tr>\n",
       "  </thead>\n",
       "  <tbody>\n",
       "    <tr>\n",
       "      <th>0</th>\n",
       "      <td>5.1</td>\n",
       "      <td>3.5</td>\n",
       "      <td>1.4</td>\n",
       "      <td>0.2</td>\n",
       "      <td>Iris-setosa</td>\n",
       "    </tr>\n",
       "    <tr>\n",
       "      <th>1</th>\n",
       "      <td>4.9</td>\n",
       "      <td>3.0</td>\n",
       "      <td>1.4</td>\n",
       "      <td>0.2</td>\n",
       "      <td>Iris-setosa</td>\n",
       "    </tr>\n",
       "    <tr>\n",
       "      <th>2</th>\n",
       "      <td>NaN</td>\n",
       "      <td>3.2</td>\n",
       "      <td>1.3</td>\n",
       "      <td>0.2</td>\n",
       "      <td>Iris-setosa</td>\n",
       "    </tr>\n",
       "    <tr>\n",
       "      <th>3</th>\n",
       "      <td>4.6</td>\n",
       "      <td>3.1</td>\n",
       "      <td>1.5</td>\n",
       "      <td>0.2</td>\n",
       "      <td>Iris-setosa</td>\n",
       "    </tr>\n",
       "    <tr>\n",
       "      <th>4</th>\n",
       "      <td>5.0</td>\n",
       "      <td>3.6</td>\n",
       "      <td>1.4</td>\n",
       "      <td>0.2</td>\n",
       "      <td>Iris-setosa</td>\n",
       "    </tr>\n",
       "  </tbody>\n",
       "</table>\n",
       "</div>"
      ],
      "text/plain": [
       "    SL   SW   PL   PW Classification\n",
       "0  5.1  3.5  1.4  0.2    Iris-setosa\n",
       "1  4.9  3.0  1.4  0.2    Iris-setosa\n",
       "2  NaN  3.2  1.3  0.2    Iris-setosa\n",
       "3  4.6  3.1  1.5  0.2    Iris-setosa\n",
       "4  5.0  3.6  1.4  0.2    Iris-setosa"
      ]
     },
     "execution_count": 2,
     "metadata": {},
     "output_type": "execute_result"
    }
   ],
   "source": [
    "#Reading the dataset to the pandas environment\n",
    "Data=pd.read_csv(r'iris .1.csv')\n",
    "Data.head()"
   ]
  },
  {
   "cell_type": "code",
   "execution_count": 3,
   "id": "facba4cb",
   "metadata": {},
   "outputs": [
    {
     "data": {
      "text/plain": [
       "SL                7\n",
       "SW                6\n",
       "PL                6\n",
       "PW                0\n",
       "Classification    0\n",
       "dtype: int64"
      ]
     },
     "execution_count": 3,
     "metadata": {},
     "output_type": "execute_result"
    }
   ],
   "source": [
    "#Check for the null values present in each column of  dataset using 'isnull().sum()' function\n",
    "Data.isnull().sum()"
   ]
  },
  {
   "cell_type": "markdown",
   "id": "2d962366",
   "metadata": {},
   "source": [
    "# Insight:\n",
    "Here SL,SW and PL contains null values."
   ]
  },
  {
   "cell_type": "code",
   "execution_count": 4,
   "id": "00fe2436",
   "metadata": {},
   "outputs": [
    {
     "data": {
      "text/plain": [
       "(150, 5)"
      ]
     },
     "execution_count": 4,
     "metadata": {},
     "output_type": "execute_result"
    }
   ],
   "source": [
    "# To know the shape of Data\n",
    "Data.shape"
   ]
  },
  {
   "cell_type": "code",
   "execution_count": 5,
   "id": "8f95a390",
   "metadata": {},
   "outputs": [
    {
     "name": "stdout",
     "output_type": "stream",
     "text": [
      "<class 'pandas.core.frame.DataFrame'>\n",
      "RangeIndex: 150 entries, 0 to 149\n",
      "Data columns (total 5 columns):\n",
      " #   Column          Non-Null Count  Dtype  \n",
      "---  ------          --------------  -----  \n",
      " 0   SL              143 non-null    float64\n",
      " 1   SW              144 non-null    float64\n",
      " 2   PL              144 non-null    float64\n",
      " 3   PW              150 non-null    float64\n",
      " 4   Classification  150 non-null    object \n",
      "dtypes: float64(4), object(1)\n",
      "memory usage: 6.0+ KB\n"
     ]
    }
   ],
   "source": [
    "#To know data types of each columns and checking for null values in the columns\n",
    "Data.info()"
   ]
  },
  {
   "cell_type": "markdown",
   "id": "fae39712",
   "metadata": {},
   "source": [
    "# Insight:\n",
    "\n",
    "**About our Dataset:**\n",
    "<br>\n",
    "**1.This dataset contains details of 150 entries.**\n",
    "<br>\n",
    "**2.There are 5 columns/features.**\n",
    "<br>\n",
    "**3.1 of the features are numerical and object data types**\n",
    "</p>"
   ]
  },
  {
   "cell_type": "markdown",
   "id": "6448ddc8",
   "metadata": {},
   "source": [
    "# Data.describe()"
   ]
  },
  {
   "cell_type": "code",
   "execution_count": 7,
   "id": "58deafa4",
   "metadata": {},
   "outputs": [
    {
     "data": {
      "text/html": [
       "<div>\n",
       "<style scoped>\n",
       "    .dataframe tbody tr th:only-of-type {\n",
       "        vertical-align: middle;\n",
       "    }\n",
       "\n",
       "    .dataframe tbody tr th {\n",
       "        vertical-align: top;\n",
       "    }\n",
       "\n",
       "    .dataframe thead th {\n",
       "        text-align: right;\n",
       "    }\n",
       "</style>\n",
       "<table border=\"1\" class=\"dataframe\">\n",
       "  <thead>\n",
       "    <tr style=\"text-align: right;\">\n",
       "      <th></th>\n",
       "      <th>Classification</th>\n",
       "    </tr>\n",
       "  </thead>\n",
       "  <tbody>\n",
       "    <tr>\n",
       "      <th>count</th>\n",
       "      <td>150</td>\n",
       "    </tr>\n",
       "    <tr>\n",
       "      <th>unique</th>\n",
       "      <td>3</td>\n",
       "    </tr>\n",
       "    <tr>\n",
       "      <th>top</th>\n",
       "      <td>Iris-versicolor</td>\n",
       "    </tr>\n",
       "    <tr>\n",
       "      <th>freq</th>\n",
       "      <td>50</td>\n",
       "    </tr>\n",
       "  </tbody>\n",
       "</table>\n",
       "</div>"
      ],
      "text/plain": [
       "         Classification\n",
       "count               150\n",
       "unique                3\n",
       "top     Iris-versicolor\n",
       "freq                 50"
      ]
     },
     "execution_count": 7,
     "metadata": {},
     "output_type": "execute_result"
    }
   ],
   "source": [
    "Data.describe(include='object')"
   ]
  },
  {
   "cell_type": "markdown",
   "id": "13da7d01",
   "metadata": {},
   "source": [
    "# 2. Do necessary pre-processing steps.\n"
   ]
  },
  {
   "cell_type": "code",
   "execution_count": 8,
   "id": "8d18736f",
   "metadata": {},
   "outputs": [
    {
     "data": {
      "text/html": [
       "<div>\n",
       "<style scoped>\n",
       "    .dataframe tbody tr th:only-of-type {\n",
       "        vertical-align: middle;\n",
       "    }\n",
       "\n",
       "    .dataframe tbody tr th {\n",
       "        vertical-align: top;\n",
       "    }\n",
       "\n",
       "    .dataframe thead th {\n",
       "        text-align: right;\n",
       "    }\n",
       "</style>\n",
       "<table border=\"1\" class=\"dataframe\">\n",
       "  <thead>\n",
       "    <tr style=\"text-align: right;\">\n",
       "      <th></th>\n",
       "      <th>SL</th>\n",
       "      <th>SW</th>\n",
       "      <th>PL</th>\n",
       "      <th>PW</th>\n",
       "      <th>Classification</th>\n",
       "    </tr>\n",
       "  </thead>\n",
       "  <tbody>\n",
       "    <tr>\n",
       "      <th>0</th>\n",
       "      <td>5.1</td>\n",
       "      <td>3.5</td>\n",
       "      <td>1.4</td>\n",
       "      <td>0.2</td>\n",
       "      <td>0</td>\n",
       "    </tr>\n",
       "    <tr>\n",
       "      <th>1</th>\n",
       "      <td>4.9</td>\n",
       "      <td>3.0</td>\n",
       "      <td>1.4</td>\n",
       "      <td>0.2</td>\n",
       "      <td>0</td>\n",
       "    </tr>\n",
       "    <tr>\n",
       "      <th>2</th>\n",
       "      <td>NaN</td>\n",
       "      <td>3.2</td>\n",
       "      <td>1.3</td>\n",
       "      <td>0.2</td>\n",
       "      <td>0</td>\n",
       "    </tr>\n",
       "    <tr>\n",
       "      <th>3</th>\n",
       "      <td>4.6</td>\n",
       "      <td>3.1</td>\n",
       "      <td>1.5</td>\n",
       "      <td>0.2</td>\n",
       "      <td>0</td>\n",
       "    </tr>\n",
       "    <tr>\n",
       "      <th>4</th>\n",
       "      <td>5.0</td>\n",
       "      <td>3.6</td>\n",
       "      <td>1.4</td>\n",
       "      <td>0.2</td>\n",
       "      <td>0</td>\n",
       "    </tr>\n",
       "  </tbody>\n",
       "</table>\n",
       "</div>"
      ],
      "text/plain": [
       "    SL   SW   PL   PW  Classification\n",
       "0  5.1  3.5  1.4  0.2               0\n",
       "1  4.9  3.0  1.4  0.2               0\n",
       "2  NaN  3.2  1.3  0.2               0\n",
       "3  4.6  3.1  1.5  0.2               0\n",
       "4  5.0  3.6  1.4  0.2               0"
      ]
     },
     "execution_count": 8,
     "metadata": {},
     "output_type": "execute_result"
    }
   ],
   "source": [
    "#preprocessing using Labelencoder\n",
    "from sklearn.preprocessing import LabelEncoder\n",
    "Ie=LabelEncoder()\n",
    "Data['Classification']=Ie.fit_transform(Data['Classification'])\n",
    "Data.head()"
   ]
  },
  {
   "cell_type": "code",
   "execution_count": 9,
   "id": "36fe3e13",
   "metadata": {},
   "outputs": [
    {
     "data": {
      "text/html": [
       "<div>\n",
       "<style scoped>\n",
       "    .dataframe tbody tr th:only-of-type {\n",
       "        vertical-align: middle;\n",
       "    }\n",
       "\n",
       "    .dataframe tbody tr th {\n",
       "        vertical-align: top;\n",
       "    }\n",
       "\n",
       "    .dataframe thead th {\n",
       "        text-align: right;\n",
       "    }\n",
       "</style>\n",
       "<table border=\"1\" class=\"dataframe\">\n",
       "  <thead>\n",
       "    <tr style=\"text-align: right;\">\n",
       "      <th></th>\n",
       "      <th>SL</th>\n",
       "      <th>SW</th>\n",
       "      <th>PL</th>\n",
       "      <th>PW</th>\n",
       "    </tr>\n",
       "  </thead>\n",
       "  <tbody>\n",
       "    <tr>\n",
       "      <th>count</th>\n",
       "      <td>143.000000</td>\n",
       "      <td>144.000000</td>\n",
       "      <td>144.000000</td>\n",
       "      <td>150.000000</td>\n",
       "    </tr>\n",
       "    <tr>\n",
       "      <th>mean</th>\n",
       "      <td>5.855944</td>\n",
       "      <td>3.049306</td>\n",
       "      <td>3.756250</td>\n",
       "      <td>1.198667</td>\n",
       "    </tr>\n",
       "    <tr>\n",
       "      <th>std</th>\n",
       "      <td>0.828168</td>\n",
       "      <td>0.430644</td>\n",
       "      <td>1.761306</td>\n",
       "      <td>0.763161</td>\n",
       "    </tr>\n",
       "    <tr>\n",
       "      <th>min</th>\n",
       "      <td>4.300000</td>\n",
       "      <td>2.000000</td>\n",
       "      <td>1.000000</td>\n",
       "      <td>0.100000</td>\n",
       "    </tr>\n",
       "    <tr>\n",
       "      <th>25%</th>\n",
       "      <td>5.100000</td>\n",
       "      <td>2.800000</td>\n",
       "      <td>1.600000</td>\n",
       "      <td>0.300000</td>\n",
       "    </tr>\n",
       "    <tr>\n",
       "      <th>50%</th>\n",
       "      <td>5.800000</td>\n",
       "      <td>3.000000</td>\n",
       "      <td>4.350000</td>\n",
       "      <td>1.300000</td>\n",
       "    </tr>\n",
       "    <tr>\n",
       "      <th>75%</th>\n",
       "      <td>6.400000</td>\n",
       "      <td>3.300000</td>\n",
       "      <td>5.100000</td>\n",
       "      <td>1.800000</td>\n",
       "    </tr>\n",
       "    <tr>\n",
       "      <th>max</th>\n",
       "      <td>7.900000</td>\n",
       "      <td>4.400000</td>\n",
       "      <td>6.900000</td>\n",
       "      <td>2.500000</td>\n",
       "    </tr>\n",
       "  </tbody>\n",
       "</table>\n",
       "</div>"
      ],
      "text/plain": [
       "               SL          SW          PL          PW\n",
       "count  143.000000  144.000000  144.000000  150.000000\n",
       "mean     5.855944    3.049306    3.756250    1.198667\n",
       "std      0.828168    0.430644    1.761306    0.763161\n",
       "min      4.300000    2.000000    1.000000    0.100000\n",
       "25%      5.100000    2.800000    1.600000    0.300000\n",
       "50%      5.800000    3.000000    4.350000    1.300000\n",
       "75%      6.400000    3.300000    5.100000    1.800000\n",
       "max      7.900000    4.400000    6.900000    2.500000"
      ]
     },
     "execution_count": 9,
     "metadata": {},
     "output_type": "execute_result"
    }
   ],
   "source": [
    "# Droping classification in x axis\n",
    "x=Data.drop(['Classification'],axis=1)\n",
    "y=Data['Classification']\n",
    "x.describe()"
   ]
  },
  {
   "cell_type": "code",
   "execution_count": 10,
   "id": "f653cc6e",
   "metadata": {},
   "outputs": [
    {
     "data": {
      "text/html": [
       "<div>\n",
       "<style scoped>\n",
       "    .dataframe tbody tr th:only-of-type {\n",
       "        vertical-align: middle;\n",
       "    }\n",
       "\n",
       "    .dataframe tbody tr th {\n",
       "        vertical-align: top;\n",
       "    }\n",
       "\n",
       "    .dataframe thead th {\n",
       "        text-align: right;\n",
       "    }\n",
       "</style>\n",
       "<table border=\"1\" class=\"dataframe\">\n",
       "  <thead>\n",
       "    <tr style=\"text-align: right;\">\n",
       "      <th></th>\n",
       "      <th>SL</th>\n",
       "      <th>SW</th>\n",
       "      <th>PL</th>\n",
       "      <th>PW</th>\n",
       "      <th>Classification</th>\n",
       "    </tr>\n",
       "  </thead>\n",
       "  <tbody>\n",
       "    <tr>\n",
       "      <th>0</th>\n",
       "      <td>5.1</td>\n",
       "      <td>3.5</td>\n",
       "      <td>1.4</td>\n",
       "      <td>0.2</td>\n",
       "      <td>0</td>\n",
       "    </tr>\n",
       "    <tr>\n",
       "      <th>1</th>\n",
       "      <td>4.9</td>\n",
       "      <td>3.0</td>\n",
       "      <td>1.4</td>\n",
       "      <td>0.2</td>\n",
       "      <td>0</td>\n",
       "    </tr>\n",
       "    <tr>\n",
       "      <th>2</th>\n",
       "      <td>NaN</td>\n",
       "      <td>3.2</td>\n",
       "      <td>1.3</td>\n",
       "      <td>0.2</td>\n",
       "      <td>0</td>\n",
       "    </tr>\n",
       "    <tr>\n",
       "      <th>3</th>\n",
       "      <td>4.6</td>\n",
       "      <td>3.1</td>\n",
       "      <td>1.5</td>\n",
       "      <td>0.2</td>\n",
       "      <td>0</td>\n",
       "    </tr>\n",
       "    <tr>\n",
       "      <th>4</th>\n",
       "      <td>5.0</td>\n",
       "      <td>3.6</td>\n",
       "      <td>1.4</td>\n",
       "      <td>0.2</td>\n",
       "      <td>0</td>\n",
       "    </tr>\n",
       "  </tbody>\n",
       "</table>\n",
       "</div>"
      ],
      "text/plain": [
       "    SL   SW   PL   PW  Classification\n",
       "0  5.1  3.5  1.4  0.2               0\n",
       "1  4.9  3.0  1.4  0.2               0\n",
       "2  NaN  3.2  1.3  0.2               0\n",
       "3  4.6  3.1  1.5  0.2               0\n",
       "4  5.0  3.6  1.4  0.2               0"
      ]
     },
     "execution_count": 10,
     "metadata": {},
     "output_type": "execute_result"
    }
   ],
   "source": [
    "#one hot encoding\n",
    "Data=pd.get_dummies(Data)\n",
    "Data.head()"
   ]
  },
  {
   "cell_type": "code",
   "execution_count": 11,
   "id": "cdfb6f8b",
   "metadata": {},
   "outputs": [
    {
     "data": {
      "text/html": [
       "<div>\n",
       "<style scoped>\n",
       "    .dataframe tbody tr th:only-of-type {\n",
       "        vertical-align: middle;\n",
       "    }\n",
       "\n",
       "    .dataframe tbody tr th {\n",
       "        vertical-align: top;\n",
       "    }\n",
       "\n",
       "    .dataframe thead th {\n",
       "        text-align: right;\n",
       "    }\n",
       "</style>\n",
       "<table border=\"1\" class=\"dataframe\">\n",
       "  <thead>\n",
       "    <tr style=\"text-align: right;\">\n",
       "      <th></th>\n",
       "      <th>0</th>\n",
       "      <th>1</th>\n",
       "      <th>2</th>\n",
       "      <th>3</th>\n",
       "    </tr>\n",
       "  </thead>\n",
       "  <tbody>\n",
       "    <tr>\n",
       "      <th>count</th>\n",
       "      <td>143.000000</td>\n",
       "      <td>144.000000</td>\n",
       "      <td>144.000000</td>\n",
       "      <td>150.000000</td>\n",
       "    </tr>\n",
       "    <tr>\n",
       "      <th>mean</th>\n",
       "      <td>0.432207</td>\n",
       "      <td>0.437211</td>\n",
       "      <td>0.467161</td>\n",
       "      <td>0.457778</td>\n",
       "    </tr>\n",
       "    <tr>\n",
       "      <th>std</th>\n",
       "      <td>0.230047</td>\n",
       "      <td>0.179435</td>\n",
       "      <td>0.298526</td>\n",
       "      <td>0.317984</td>\n",
       "    </tr>\n",
       "    <tr>\n",
       "      <th>min</th>\n",
       "      <td>0.000000</td>\n",
       "      <td>0.000000</td>\n",
       "      <td>0.000000</td>\n",
       "      <td>0.000000</td>\n",
       "    </tr>\n",
       "    <tr>\n",
       "      <th>25%</th>\n",
       "      <td>0.222222</td>\n",
       "      <td>0.333333</td>\n",
       "      <td>0.101695</td>\n",
       "      <td>0.083333</td>\n",
       "    </tr>\n",
       "    <tr>\n",
       "      <th>50%</th>\n",
       "      <td>0.416667</td>\n",
       "      <td>0.416667</td>\n",
       "      <td>0.567797</td>\n",
       "      <td>0.500000</td>\n",
       "    </tr>\n",
       "    <tr>\n",
       "      <th>75%</th>\n",
       "      <td>0.583333</td>\n",
       "      <td>0.541667</td>\n",
       "      <td>0.694915</td>\n",
       "      <td>0.708333</td>\n",
       "    </tr>\n",
       "    <tr>\n",
       "      <th>max</th>\n",
       "      <td>1.000000</td>\n",
       "      <td>1.000000</td>\n",
       "      <td>1.000000</td>\n",
       "      <td>1.000000</td>\n",
       "    </tr>\n",
       "  </tbody>\n",
       "</table>\n",
       "</div>"
      ],
      "text/plain": [
       "                0           1           2           3\n",
       "count  143.000000  144.000000  144.000000  150.000000\n",
       "mean     0.432207    0.437211    0.467161    0.457778\n",
       "std      0.230047    0.179435    0.298526    0.317984\n",
       "min      0.000000    0.000000    0.000000    0.000000\n",
       "25%      0.222222    0.333333    0.101695    0.083333\n",
       "50%      0.416667    0.416667    0.567797    0.500000\n",
       "75%      0.583333    0.541667    0.694915    0.708333\n",
       "max      1.000000    1.000000    1.000000    1.000000"
      ]
     },
     "execution_count": 11,
     "metadata": {},
     "output_type": "execute_result"
    }
   ],
   "source": [
    "min_max=preprocessing.MinMaxScaler(feature_range=(0,1))\n",
    "x=min_max.fit_transform(x)\n",
    "x=pd.DataFrame(x)\n",
    "x.describe()"
   ]
  },
  {
   "cell_type": "code",
   "execution_count": 13,
   "id": "ba99492e",
   "metadata": {},
   "outputs": [
    {
     "name": "stdout",
     "output_type": "stream",
     "text": [
      "MSE is: 0.03036409477977395\n",
      "R Squarred Value is: 0.9565537594566033\n"
     ]
    }
   ],
   "source": [
    "x=np.nan_to_num(x)\n",
    "from sklearn.model_selection import train_test_split\n",
    "x_train,x_test,y_train,y_test=train_test_split(x,y,random_state=42,test_size=0.2)\n",
    "from sklearn import linear_model\n",
    "lr=linear_model.LinearRegression()\n",
    "model=lr.fit(x_train,y_train)\n",
    "predictions=model.predict(x_test)\n",
    "from sklearn.metrics import mean_squared_error\n",
    "print('MSE is:',mean_squared_error(y_test,predictions))\n",
    "from sklearn.metrics import r2_score\n",
    "print('R Squarred Value is:',r2_score(y_test,predictions))"
   ]
  },
  {
   "cell_type": "markdown",
   "id": "ca469af8",
   "metadata": {},
   "source": [
    "# Insight:\n",
    "**Mean square error is 0.031 and R Squarred Value is: 0.956.**"
   ]
  },
  {
   "cell_type": "markdown",
   "id": "5be33021",
   "metadata": {},
   "source": [
    "# 3. Find out which classification model gives the best result to predict iris species.(also do random forest algorithm)\n"
   ]
  },
  {
   "cell_type": "markdown",
   "id": "b543e2f3",
   "metadata": {},
   "source": [
    "# a)Classification models"
   ]
  },
  {
   "cell_type": "markdown",
   "id": "6ec84d24",
   "metadata": {},
   "source": [
    "# \n",
    "**1.Logistic Regression**"
   ]
  },
  {
   "cell_type": "code",
   "execution_count": 70,
   "id": "dad9a1d6",
   "metadata": {},
   "outputs": [],
   "source": [
    "model=LogisticRegression()\n",
    "model.fit(x_train,y_train)\n",
    "y_pred=model.predict(x_test)"
   ]
  },
  {
   "cell_type": "code",
   "execution_count": 71,
   "id": "31893af4",
   "metadata": {},
   "outputs": [
    {
     "name": "stdout",
     "output_type": "stream",
     "text": [
      "confusion matrix:\n",
      " [[10  1  0]\n",
      " [ 0  8  0]\n",
      " [ 0  0 11]]\n",
      "Accuracy: 96.66666666666667\n",
      "Precision: 96.29629629629629\n",
      "Recall: 96.96969696969697\n",
      "F1 Score: 96.45191409897292\n"
     ]
    }
   ],
   "source": [
    "from sklearn.metrics import confusion_matrix,accuracy_score,precision_score,recall_score,f1_score\n",
    "print(\"confusion matrix:\\n\",confusion_matrix(y_pred,y_test))\n",
    "print(\"Accuracy:\",accuracy_score(y_pred,y_test)*100)\n",
    "print(\"Precision:\",precision_score(y_pred,y_test,average=\"macro\")*100)\n",
    "print(\"Recall:\",recall_score(y_pred,y_test,average=\"macro\")*100)\n",
    "print(\"F1 Score:\",f1_score(y_pred,y_test,average=\"macro\")*100)"
   ]
  },
  {
   "cell_type": "markdown",
   "id": "b9af1e8f",
   "metadata": {},
   "source": [
    "# Insight:\n",
    "Here we get Accuracy=96.667,Precision: 96.29 and F1 Score: 96.45.\n",
    "    "
   ]
  },
  {
   "cell_type": "markdown",
   "id": "8d034602",
   "metadata": {},
   "source": [
    "# \n",
    "**2.KNN (k-nearest neighbor)**"
   ]
  },
  {
   "cell_type": "code",
   "execution_count": 38,
   "id": "e62319f3",
   "metadata": {},
   "outputs": [],
   "source": [
    "from sklearn.neighbors import KNeighborsClassifier\n",
    "model=KNeighborsClassifier()\n",
    "model.fit(x_train,y_train)\n",
    "y_pred=model.predict(x_test)"
   ]
  },
  {
   "cell_type": "code",
   "execution_count": 66,
   "id": "1f5421b3",
   "metadata": {},
   "outputs": [
    {
     "name": "stdout",
     "output_type": "stream",
     "text": [
      "confusion matrix:\n",
      " [[10  0  0]\n",
      " [ 0  9  0]\n",
      " [ 0  0 11]]\n",
      "Accuracy: 1.0\n",
      "Precision: 1.0\n",
      "Recall: 1.0\n",
      "F1 Score: 1.0\n"
     ]
    }
   ],
   "source": [
    "print(\"confusion matrix:\\n\",confusion_matrix(y_pred,y_test))\n",
    "print(\"Accuracy:\",accuracy_score(y_pred,y_test))\n",
    "print(\"Precision:\",precision_score(y_pred,y_test,average=\"micro\"))\n",
    "print(\"Recall:\",recall_score(y_pred,y_test,average=\"micro\"))\n",
    "print(\"F1 Score:\",f1_score(y_pred,y_test,average=\"micro\"))"
   ]
  },
  {
   "cell_type": "markdown",
   "id": "7d7c2ce1",
   "metadata": {},
   "source": [
    "# Insight:\n",
    "**Accuracy,Precision,F1 Score of K-NN classifier is 1.Thus,k-nearest neighbor is a good model of Classifiction.**\n"
   ]
  },
  {
   "cell_type": "markdown",
   "id": "189649c0",
   "metadata": {},
   "source": [
    "# \n",
    "**3.Decision Tree**"
   ]
  },
  {
   "cell_type": "code",
   "execution_count": 40,
   "id": "0821b0d8",
   "metadata": {},
   "outputs": [],
   "source": [
    "from sklearn.tree import DecisionTreeClassifier\n",
    "model=DecisionTreeClassifier()\n",
    "model.fit(x_train,y_train)\n",
    "y_pred=model.predict(x_test)"
   ]
  },
  {
   "cell_type": "code",
   "execution_count": 67,
   "id": "b7af9529",
   "metadata": {},
   "outputs": [
    {
     "name": "stdout",
     "output_type": "stream",
     "text": [
      "confusion matrix:\n",
      " [[10  0  0]\n",
      " [ 0  9  0]\n",
      " [ 0  0 11]]\n",
      "Accuracy: 1.0\n",
      "Precision: 1.0\n",
      "Recall: 1.0\n",
      "F1 Score: 1.0\n"
     ]
    }
   ],
   "source": [
    "print(\"confusion matrix:\\n\",confusion_matrix(y_pred,y_test))\n",
    "print(\"Accuracy:\",accuracy_score(y_pred,y_test))\n",
    "print(\"Precision:\",precision_score(y_pred,y_test,average=\"macro\"))\n",
    "print(\"Recall:\",recall_score(y_pred,y_test,average=\"macro\"))\n",
    "print(\"F1 Score:\",f1_score(y_pred,y_test,average=\"macro\"))"
   ]
  },
  {
   "cell_type": "markdown",
   "id": "ea9133da",
   "metadata": {},
   "source": [
    "# Insight:\n",
    "**Accuracy,Precision,F1 Score of Decision Tree is 1.Thus,Decision Tree is a good model of Classifiction.**"
   ]
  },
  {
   "cell_type": "markdown",
   "id": "28dd2da8",
   "metadata": {},
   "source": [
    "# \n",
    "**4.Support Vector Machine**"
   ]
  },
  {
   "cell_type": "code",
   "execution_count": 42,
   "id": "fbed1cc8",
   "metadata": {},
   "outputs": [],
   "source": [
    "from sklearn.svm import SVC\n",
    "model=SVC()\n",
    "model.fit(x_train,y_train)\n",
    "y_pred=model.predict(x_test)"
   ]
  },
  {
   "cell_type": "code",
   "execution_count": 68,
   "id": "6c8426c8",
   "metadata": {},
   "outputs": [
    {
     "name": "stdout",
     "output_type": "stream",
     "text": [
      "confusion matrix:\n",
      " [[10  0  0]\n",
      " [ 0  9  0]\n",
      " [ 0  0 11]]\n",
      "Accuracy: 1.0\n",
      "Precision: 1.0\n",
      "Recall: 1.0\n",
      "F1 Score: 1.0\n"
     ]
    }
   ],
   "source": [
    "print(\"confusion matrix:\\n\",confusion_matrix(y_pred,y_test))\n",
    "print(\"Accuracy:\",accuracy_score(y_pred,y_test))\n",
    "print(\"Precision:\",precision_score(y_pred,y_test,average=\"macro\"))\n",
    "print(\"Recall:\",recall_score(y_pred,y_test,average=\"macro\"))\n",
    "print(\"F1 Score:\",f1_score(y_pred,y_test,average=\"macro\"))"
   ]
  },
  {
   "cell_type": "markdown",
   "id": "e995486f",
   "metadata": {},
   "source": [
    "# Insight:\n",
    "**Accuracy,Precision,F1 Score of Support Vector Machine is 1.Thus,Support Vector Machine is a good model of Classifiction.**"
   ]
  },
  {
   "cell_type": "markdown",
   "id": "12b936eb",
   "metadata": {},
   "source": [
    "# \n",
    "**5.Linear SVM**"
   ]
  },
  {
   "cell_type": "code",
   "execution_count": 62,
   "id": "36e6c282",
   "metadata": {},
   "outputs": [],
   "source": [
    "from sklearn.svm import SVC\n",
    "svm_linear=SVC(kernel=\"linear\")\n",
    "svm_linear.fit(x_train,y_train)\n",
    "y_pred=svm_linear.predict(x_test)"
   ]
  },
  {
   "cell_type": "code",
   "execution_count": 63,
   "id": "3d8f2eeb",
   "metadata": {},
   "outputs": [
    {
     "name": "stdout",
     "output_type": "stream",
     "text": [
      "confusion matrix:\n",
      " [[10  0  0]\n",
      " [ 0  9  0]\n",
      " [ 0  0 11]]\n",
      "Accuracy: 1.0\n",
      "Precision: 1.0\n",
      "Recall: 1.0\n",
      "F1 Score: 1.0\n"
     ]
    }
   ],
   "source": [
    "print(\"confusion matrix:\\n\",confusion_matrix(y_pred,y_test))\n",
    "print(\"Accuracy:\",accuracy_score(y_pred,y_test))\n",
    "print(\"Precision:\",precision_score(y_pred,y_test,average=\"macro\"))\n",
    "print(\"Recall:\",recall_score(y_pred,y_test,average=\"macro\"))\n",
    "print(\"F1 Score:\",f1_score(y_pred,y_test,average=\"macro\"))"
   ]
  },
  {
   "cell_type": "markdown",
   "id": "229d579a",
   "metadata": {},
   "source": [
    "# Insight:\n",
    "**Accuracy,Precision,F1 Score of Linear SVM is 1.Thus,Linear SVM is a good model of Classifiction.**"
   ]
  },
  {
   "cell_type": "markdown",
   "id": "75cc89ff",
   "metadata": {},
   "source": [
    "# \n",
    "**6.Polynominal SVM**"
   ]
  },
  {
   "cell_type": "code",
   "execution_count": 64,
   "id": "181ef718",
   "metadata": {},
   "outputs": [],
   "source": [
    "from sklearn.svm import SVC\n",
    "svm_poly=SVC(kernel=\"poly\",degree=1)\n",
    "svm_poly.fit(x_train,y_train)\n",
    "y_pred=svm_poly.predict(x_test)"
   ]
  },
  {
   "cell_type": "code",
   "execution_count": 65,
   "id": "f1e3cea4",
   "metadata": {},
   "outputs": [
    {
     "name": "stdout",
     "output_type": "stream",
     "text": [
      "confusion matrix:\n",
      " [[10  0  0]\n",
      " [ 0  9  0]\n",
      " [ 0  0 11]]\n",
      "Accuracy: 1.0\n",
      "Precision: 1.0\n",
      "Recall: 1.0\n",
      "F1 Score: 1.0\n"
     ]
    }
   ],
   "source": [
    "print(\"confusion matrix:\\n\",confusion_matrix(y_pred,y_test))\n",
    "print(\"Accuracy:\",accuracy_score(y_pred,y_test))\n",
    "print(\"Precision:\",precision_score(y_pred,y_test,average=\"macro\"))\n",
    "print(\"Recall:\",recall_score(y_pred,y_test,average=\"macro\"))\n",
    "print(\"F1 Score:\",f1_score(y_pred,y_test,average=\"macro\"))"
   ]
  },
  {
   "cell_type": "markdown",
   "id": "bc5b7c97",
   "metadata": {},
   "source": [
    "# Insight:\n",
    "**Accuracy,Precision,F1 Score of Polynominal SVM is 1.Thus,Polynominal SVM is a good model of Classifiction.**"
   ]
  },
  {
   "cell_type": "markdown",
   "id": "b074c2db",
   "metadata": {},
   "source": [
    "# b)random forest algorithm"
   ]
  },
  {
   "cell_type": "code",
   "execution_count": 53,
   "id": "2beafbca",
   "metadata": {},
   "outputs": [],
   "source": [
    "from sklearn.ensemble import RandomForestClassifier\n",
    "rf=RandomForestClassifier()\n",
    "rf.fit(x_train,y_train)\n",
    "y_pred=rf.predict(x_test)"
   ]
  },
  {
   "cell_type": "code",
   "execution_count": 60,
   "id": "ba3996fe",
   "metadata": {},
   "outputs": [
    {
     "name": "stdout",
     "output_type": "stream",
     "text": [
      "confusion matrix:\n",
      " [[10  0  0]\n",
      " [ 0  9  0]\n",
      " [ 0  0 11]]\n",
      "Accuracy: 1.0\n",
      "Precision: 1.0\n",
      "Recall: 1.0\n",
      "F1 Score: 1.0\n"
     ]
    }
   ],
   "source": [
    "print(\"confusion matrix:\\n\",confusion_matrix(y_pred,y_test))\n",
    "print(\"Accuracy:\",accuracy_score(y_pred,y_test))\n",
    "print(\"Precision:\",precision_score(y_pred,y_test,average=\"micro\"))\n",
    "print(\"Recall:\",recall_score(y_pred,y_test,average=\"micro\"))\n",
    "print(\"F1 Score:\",f1_score(y_pred,y_test,average=\"micro\"))"
   ]
  },
  {
   "cell_type": "markdown",
   "id": "a6f42f23",
   "metadata": {},
   "source": [
    "# Insight:\n",
    "**Accuracy,Precision,F1 Score of random forest algorithm is 1.Thus,random forest algorithm is also  a good model of Classifiction.**    "
   ]
  },
  {
   "cell_type": "code",
   "execution_count": null,
   "id": "5588caf6",
   "metadata": {},
   "outputs": [],
   "source": []
  }
 ],
 "metadata": {
  "kernelspec": {
   "display_name": "Python 3",
   "language": "python",
   "name": "python3"
  },
  "language_info": {
   "codemirror_mode": {
    "name": "ipython",
    "version": 3
   },
   "file_extension": ".py",
   "mimetype": "text/x-python",
   "name": "python",
   "nbconvert_exporter": "python",
   "pygments_lexer": "ipython3",
   "version": "3.8.8"
  }
 },
 "nbformat": 4,
 "nbformat_minor": 5
}
